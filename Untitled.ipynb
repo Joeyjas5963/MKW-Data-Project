{
 "cells": [
  {
   "cell_type": "code",
   "execution_count": 6,
   "id": "f02458b9",
   "metadata": {},
   "outputs": [
    {
     "data": {
      "text/plain": [
       "[9, 10, 11, 12]"
      ]
     },
     "execution_count": 6,
     "metadata": {},
     "output_type": "execute_result"
    }
   ],
   "source": [
    "a = [1, 2, 3, 4, 5, 6, 7, 8, 9, 10, 11, 12]\n",
    "b = [1, 2, 3, 4, 5, 6]\n",
    "\n",
    "a[8:]"
   ]
  },
  {
   "cell_type": "code",
   "execution_count": 1,
   "id": "09265a2d",
   "metadata": {},
   "outputs": [
    {
     "data": {
      "text/plain": [
       "True"
      ]
     },
     "execution_count": 1,
     "metadata": {},
     "output_type": "execute_result"
    }
   ],
   "source": [
    "string = 'D1_1A'\n",
    "'D1' in string"
   ]
  },
  {
   "cell_type": "code",
   "execution_count": 12,
   "id": "802cbf3e",
   "metadata": {},
   "outputs": [
    {
     "data": {
      "text/html": [
       "<div>\n",
       "<style scoped>\n",
       "    .dataframe tbody tr th:only-of-type {\n",
       "        vertical-align: middle;\n",
       "    }\n",
       "\n",
       "    .dataframe tbody tr th {\n",
       "        vertical-align: top;\n",
       "    }\n",
       "\n",
       "    .dataframe thead th {\n",
       "        text-align: right;\n",
       "    }\n",
       "</style>\n",
       "<table border=\"1\" class=\"dataframe\">\n",
       "  <thead>\n",
       "    <tr style=\"text-align: right;\">\n",
       "      <th></th>\n",
       "      <th>table_str</th>\n",
       "      <th>mii_name</th>\n",
       "      <th>lounge_name</th>\n",
       "      <th>table_name</th>\n",
       "      <th>tag</th>\n",
       "      <th>total_score</th>\n",
       "      <th>had_penalties</th>\n",
       "      <th>penalties</th>\n",
       "      <th>subbed_out</th>\n",
       "      <th>race_scores</th>\n",
       "      <th>race_positions</th>\n",
       "      <th>gp_scores</th>\n",
       "      <th>flag</th>\n",
       "    </tr>\n",
       "  </thead>\n",
       "  <tbody>\n",
       "    <tr>\n",
       "      <th>0</th>\n",
       "      <td>Ghostly [ph] 35|33|15</td>\n",
       "      <td>◆Ghostly♪</td>\n",
       "      <td>Ghostly</td>\n",
       "      <td>Ghostly</td>\n",
       "      <td>No Tag</td>\n",
       "      <td>83</td>\n",
       "      <td>False</td>\n",
       "      <td>0</td>\n",
       "      <td>False</td>\n",
       "      <td>[12, 0, 15, 8, 12, 0, 15, 6, 15, 0, 0, 0]</td>\n",
       "      <td>[2, 12, 1, 4, 2, 12, 1, 6, 1]</td>\n",
       "      <td>[[12, 0, 15, 8], [12, 0, 15, 6], [15, 0, 0, 0]]</td>\n",
       "      <td>ph</td>\n",
       "    </tr>\n",
       "    <tr>\n",
       "      <th>1</th>\n",
       "      <td>DS Desert Hills [hk] 31|38|3</td>\n",
       "      <td>rDH&gt;DKSC</td>\n",
       "      <td>DS Desert Hills</td>\n",
       "      <td>DS Desert Hills</td>\n",
       "      <td>No Tag</td>\n",
       "      <td>72</td>\n",
       "      <td>False</td>\n",
       "      <td>0</td>\n",
       "      <td>False</td>\n",
       "      <td>[15, 4, 8, 4, 10, 12, 8, 8, 3, 0, 0, 0]</td>\n",
       "      <td>[1, 8, 4, 8, 3, 2, 4, 4, 9]</td>\n",
       "      <td>[[15, 4, 8, 4], [10, 12, 8, 8], [3, 0, 0, 0]]</td>\n",
       "      <td>hk</td>\n",
       "    </tr>\n",
       "    <tr>\n",
       "      <th>2</th>\n",
       "      <td>Calum [ca] 27|38|7</td>\n",
       "      <td>IF CALUM</td>\n",
       "      <td>Calum</td>\n",
       "      <td>Calum</td>\n",
       "      <td>No Tag</td>\n",
       "      <td>72</td>\n",
       "      <td>False</td>\n",
       "      <td>0</td>\n",
       "      <td>False</td>\n",
       "      <td>[7, 2, 6, 12, 7, 15, 6, 10, 7, 0, 0, 0]</td>\n",
       "      <td>[5, 10, 6, 2, 5, 1, 6, 3, 5]</td>\n",
       "      <td>[[7, 2, 6, 12], [7, 15, 6, 10], [7, 0, 0, 0]]</td>\n",
       "      <td>ca</td>\n",
       "    </tr>\n",
       "    <tr>\n",
       "      <th>3</th>\n",
       "      <td>Aiko [cl] 29|25|8</td>\n",
       "      <td>Reeze</td>\n",
       "      <td>Aiko</td>\n",
       "      <td>Aiko</td>\n",
       "      <td>No Tag</td>\n",
       "      <td>62</td>\n",
       "      <td>False</td>\n",
       "      <td>0</td>\n",
       "      <td>False</td>\n",
       "      <td>[10, 6, 12, 1, 5, 10, 5, 5, 8, 0, 0, 0]</td>\n",
       "      <td>[3, 6, 2, 11, 7, 3, 7, 7, 4]</td>\n",
       "      <td>[[10, 6, 12, 1], [5, 10, 5, 5], [8, 0, 0, 0]]</td>\n",
       "      <td>cl</td>\n",
       "    </tr>\n",
       "    <tr>\n",
       "      <th>4</th>\n",
       "      <td>zFam27 19|38|5</td>\n",
       "      <td>ttvzFam27</td>\n",
       "      <td>zFam27</td>\n",
       "      <td>zFam27</td>\n",
       "      <td>No Tag</td>\n",
       "      <td>62</td>\n",
       "      <td>False</td>\n",
       "      <td>0</td>\n",
       "      <td>False</td>\n",
       "      <td>[0, 10, 2, 7, 8, 8, 7, 15, 5, 0, 0, 0]</td>\n",
       "      <td>[12, 3, 10, 5, 4, 4, 5, 1, 7]</td>\n",
       "      <td>[[0, 10, 2, 7], [8, 8, 7, 15], [5, 0, 0, 0]]</td>\n",
       "      <td></td>\n",
       "    </tr>\n",
       "  </tbody>\n",
       "</table>\n",
       "</div>"
      ],
      "text/plain": [
       "                      table_str    mii_name      lounge_name       table_name  \\\n",
       "0         Ghostly [ph] 35|33|15   ◆Ghostly♪          Ghostly          Ghostly   \n",
       "1  DS Desert Hills [hk] 31|38|3    rDH>DKSC  DS Desert Hills  DS Desert Hills   \n",
       "2            Calum [ca] 27|38|7    IF CALUM            Calum            Calum   \n",
       "3             Aiko [cl] 29|25|8       Reeze             Aiko             Aiko   \n",
       "4                zFam27 19|38|5  ttvzFam27           zFam27           zFam27   \n",
       "\n",
       "      tag  total_score  had_penalties  penalties  subbed_out  \\\n",
       "0  No Tag           83          False          0       False   \n",
       "1  No Tag           72          False          0       False   \n",
       "2  No Tag           72          False          0       False   \n",
       "3  No Tag           62          False          0       False   \n",
       "4  No Tag           62          False          0       False   \n",
       "\n",
       "                                 race_scores                 race_positions  \\\n",
       "0  [12, 0, 15, 8, 12, 0, 15, 6, 15, 0, 0, 0]  [2, 12, 1, 4, 2, 12, 1, 6, 1]   \n",
       "1    [15, 4, 8, 4, 10, 12, 8, 8, 3, 0, 0, 0]    [1, 8, 4, 8, 3, 2, 4, 4, 9]   \n",
       "2    [7, 2, 6, 12, 7, 15, 6, 10, 7, 0, 0, 0]   [5, 10, 6, 2, 5, 1, 6, 3, 5]   \n",
       "3    [10, 6, 12, 1, 5, 10, 5, 5, 8, 0, 0, 0]   [3, 6, 2, 11, 7, 3, 7, 7, 4]   \n",
       "4     [0, 10, 2, 7, 8, 8, 7, 15, 5, 0, 0, 0]  [12, 3, 10, 5, 4, 4, 5, 1, 7]   \n",
       "\n",
       "                                         gp_scores flag  \n",
       "0  [[12, 0, 15, 8], [12, 0, 15, 6], [15, 0, 0, 0]]   ph  \n",
       "1    [[15, 4, 8, 4], [10, 12, 8, 8], [3, 0, 0, 0]]   hk  \n",
       "2    [[7, 2, 6, 12], [7, 15, 6, 10], [7, 0, 0, 0]]   ca  \n",
       "3    [[10, 6, 12, 1], [5, 10, 5, 5], [8, 0, 0, 0]]   cl  \n",
       "4     [[0, 10, 2, 7], [8, 8, 7, 15], [5, 0, 0, 0]]       "
      ]
     },
     "execution_count": 12,
     "metadata": {},
     "output_type": "execute_result"
    }
   ],
   "source": [
    "import json\n",
    "import pandas as pd\n",
    "\n",
    "with open ('Sample_JSON.txt', 'r', encoding='utf-8') as infile:\n",
    "\n",
    "    string = infile.readline()\n",
    "\n",
    "    dict = json.loads(string)\n",
    "\n",
    "    dct = list(dict['teams']['No Tag']['players'].values())\n",
    "    df = pd.DataFrame.from_dict(dct)\n",
    "    \n",
    "df.head()"
   ]
  },
  {
   "cell_type": "code",
   "execution_count": 2,
   "id": "2951cc32",
   "metadata": {},
   "outputs": [
    {
     "data": {
      "text/plain": [
       "[1, 2, 3, 4, 5, 6]"
      ]
     },
     "execution_count": 2,
     "metadata": {},
     "output_type": "execute_result"
    }
   ],
   "source": [
    "a = [1, 2, 3]\n",
    "b = [4, 5, 6]\n",
    "a + b"
   ]
  },
  {
   "cell_type": "code",
   "execution_count": null,
   "id": "4cd0a6dd",
   "metadata": {},
   "outputs": [],
   "source": []
  }
 ],
 "metadata": {
  "kernelspec": {
   "display_name": "Python 3 (ipykernel)",
   "language": "python",
   "name": "python3"
  },
  "language_info": {
   "codemirror_mode": {
    "name": "ipython",
    "version": 3
   },
   "file_extension": ".py",
   "mimetype": "text/x-python",
   "name": "python",
   "nbconvert_exporter": "python",
   "pygments_lexer": "ipython3",
   "version": "3.9.13"
  }
 },
 "nbformat": 4,
 "nbformat_minor": 5
}
